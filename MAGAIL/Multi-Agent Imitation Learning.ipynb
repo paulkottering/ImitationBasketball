{
 "cells": [
  {
   "cell_type": "markdown",
   "id": "8e47be1e",
   "metadata": {},
   "source": [
    "Unzip file from datasets."
   ]
  },
  {
   "cell_type": "code",
   "execution_count": 10,
   "id": "266b0809",
   "metadata": {},
   "outputs": [],
   "source": [
    "from py7zr import SevenZipFile\n",
    "\n",
    "with SevenZipFile(\"datasets/CHIvTOR.7z\", \"r\") as zip:\n",
    "    json_file = zip.getnames()[0]\n",
    "    zip.extractall(path=\"data/\")"
   ]
  },
  {
   "cell_type": "markdown",
   "id": "c8843c06",
   "metadata": {},
   "source": [
    "Read json data"
   ]
  },
  {
   "cell_type": "code",
   "execution_count": 11,
   "id": "703b6a5d",
   "metadata": {},
   "outputs": [],
   "source": [
    "import json\n",
    "\n",
    "f = open(f\"data/{json_file}\")\n",
    "data = json.load(f)\n",
    "f.close()"
   ]
  },
  {
   "cell_type": "markdown",
   "id": "dee64fc3",
   "metadata": {},
   "source": [
    "Prepare training and test data"
   ]
  },
  {
   "cell_type": "code",
   "execution_count": 13,
   "id": "da49ad86",
   "metadata": {},
   "outputs": [],
   "source": [
    "from classes import Player\n",
    "\n",
    "events = data[\"events\"]\n",
    "\n",
    "def getTeam():\n",
    "    # extracting player ids of the home team\n",
    "    team = {x[\"playerid\"]: (f\"{x['firstname']} {x['lastname']}\", x[\"jersey\"]) for x in events[0][\"home\"][\"players\"]}\n",
    "    # only considering players that are starting the game\n",
    "    starting_team = []\n",
    "    for player in events[0][\"moments\"][0][5]:\n",
    "        if player[1] in team.keys():\n",
    "            starting_team.append(Player(player[1], team[player[1]][0], team[player[1]][1]))\n",
    "    return starting_team\n",
    "\n",
    "train_data, test_data = getTeam(), getTeam()\n",
    "\n",
    "for event in events:\n",
    "    # not considering time outs or quarter breaks\n",
    "    if len(event[\"moments\"]) == 0:\n",
    "        continue\n",
    "    # ignoring free throws\n",
    "    if event[\"moments\"][0][3] is None:\n",
    "        continue\n",
    "    quarter, ball_x, player_pos = event[\"moments\"][0][0], event[\"moments\"][0][5][0][2], event[\"moments\"][0][5]\n",
    "    # only considering defensive plays (using ball position)\n",
    "    # first half\n",
    "    if quarter < 3 and ball_x < 50:\n",
    "        continue\n",
    "    # second half\n",
    "    if quarter > 2 and ball_x > 50:\n",
    "        continue\n",
    "    \n",
    "    # player positions for the first 3 quarters will be used for training and last quarter for testing\n",
    "    if quarter <= 3:\n",
    "        for player in train_data:\n",
    "            for tid, pid, px, py, pz in player_pos:\n",
    "                if player.id == pid:\n",
    "                    player.addPosition(px, py)\n",
    "                    break\n",
    "    else:\n",
    "        for player in test_data:\n",
    "            for tid, pid, px, py, pz in player_pos:\n",
    "                if player.id == pid:\n",
    "                    player.addPosition(px, py)\n",
    "                    break"
   ]
  },
  {
   "cell_type": "code",
   "execution_count": null,
   "id": "c458c70e",
   "metadata": {},
   "outputs": [],
   "source": []
  }
 ],
 "metadata": {
  "kernelspec": {
   "display_name": "Python 3 (ipykernel)",
   "language": "python",
   "name": "python3"
  },
  "language_info": {
   "codemirror_mode": {
    "name": "ipython",
    "version": 3
   },
   "file_extension": ".py",
   "mimetype": "text/x-python",
   "name": "python",
   "nbconvert_exporter": "python",
   "pygments_lexer": "ipython3",
   "version": "3.9.13"
  }
 },
 "nbformat": 4,
 "nbformat_minor": 5
}
