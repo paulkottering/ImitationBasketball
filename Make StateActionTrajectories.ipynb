{
 "cells": [
  {
   "cell_type": "code",
   "execution_count": 1,
   "metadata": {},
   "outputs": [],
   "source": [
    "import pandas as pd"
   ]
  },
  {
   "cell_type": "code",
   "execution_count": 181,
   "metadata": {},
   "outputs": [],
   "source": [
    "import matplotlib.animation as animation\n",
    "import matplotlib.pyplot as plt\n",
    "import os"
   ]
  },
  {
   "cell_type": "markdown",
   "metadata": {},
   "source": [
    "The aim of this notebook is to run a game json file and to produce a cleaned file with all the events. Each event should have trajectories of state-action pairs."
   ]
  },
  {
   "cell_type": "markdown",
   "metadata": {},
   "source": [
    "Possible state/action representations:\n",
    "\n",
    "* 22 dimensional vector for the current state (positions of all 10 players and the ball) - 10 dimension vector for the action (change in x and y for each defensive player)\n",
    "* 22 dimensional vector for the current state (change in x,y of all 10 players and the ball) - 10 dimension vector for the action (change in x and y for each defensive player)\n",
    "* 22 dimensional vector for the current state (change in x,y of 5 offensive players and ball, current position of 5 defensive players) - 10 dimension vector for the action (change in x and y for each defensive player)\n",
    "* 22 dimensional vector for the players (one of above) and 2 dimensional vector of game and shot clock for state - 10 dimension vector for the action (as above)"
   ]
  },
  {
   "cell_type": "code",
   "execution_count": 189,
   "metadata": {},
   "outputs": [],
   "source": [
    "class Game:\n",
    "    def __init__(self, path_to_json):\n",
    "        # self.events = None\n",
    "        self.home_team = None\n",
    "        self.guest_team = None\n",
    "        self.event = None\n",
    "        self.path_to_json = path_to_json\n",
    "        self.gamename = path_to_json[:-5]\n",
    "        os.mkdir(self.gamename)\n",
    "\n",
    "    def read_json(self):\n",
    "        self.data_frame = pd.read_json(self.path_to_json)\n",
    "        self.last_default_index = len(self.data_frame) - 1\n",
    "\n",
    "    def start(self):\n",
    "        for event_index in range(self.last_default_index):\n",
    "            event = self.data_frame['events'][event_index]\n",
    "            self.event = Event(event)\n",
    "            self.event.save(self.gamename,event_index)"
   ]
  },
  {
   "cell_type": "code",
   "execution_count": 190,
   "metadata": {},
   "outputs": [],
   "source": [
    "class Event:\n",
    "    def __init__(self, event):\n",
    "        moments = event['moments']\n",
    "        self.moments = [Moment(moment) for moment in moments]\n",
    "        \n",
    "    def makestateaction(self,i):\n",
    "        statedata = {'Off1x':[self.moments[i].players[0].x],'Off1y':[self.moments[i].players[0].y],\n",
    "                     'Off2x':[self.moments[i].players[1].x],'Off2y':[self.moments[i].players[1].y],\n",
    "                     'Off3x':[self.moments[i].players[2].x],'Off3y':[self.moments[i].players[2].y],\n",
    "                     'Off4x':[self.moments[i].players[3].x],'Off4y':[self.moments[i].players[3].y],\n",
    "                     'Off5x':[self.moments[i].players[4].x],'Off5y':[self.moments[i].players[4].y],\n",
    "                     'Ballx':[self.moments[i].ball.x],      'Bally':[self.moments[i].ball.y],\n",
    "                     'Def1x':[self.moments[i].players[5].x],'Def1y':[self.moments[i].players[5].y],\n",
    "                     'Def2x':[self.moments[i].players[6].x],'Def2y':[self.moments[i].players[6].y],\n",
    "                     'Def3x':[self.moments[i].players[7].x],'Def3y':[self.moments[i].players[7].y],\n",
    "                     'Def4x':[self.moments[i].players[8].x],'Def4y':[self.moments[i].players[8].y],\n",
    "                     'Def5x':[self.moments[i].players[9].x],'Def5y':[self.moments[i].players[9].y] }\n",
    "        \n",
    "        actiondata = {'DefAct1x':[self.moments[i+1].players[5].x - self.moments[i].players[5].x],\n",
    "                      'DefAct1y':[self.moments[i+1].players[5].y - self.moments[i].players[5].y],\n",
    "                      'DefAct2x':[self.moments[i+1].players[6].x - self.moments[i].players[6].x],\n",
    "                      'DefAct2y':[self.moments[i+1].players[6].y - self.moments[i].players[6].y],\n",
    "                      'DefAct3x':[self.moments[i+1].players[7].x - self.moments[i].players[7].x],\n",
    "                      'DefAct3y':[self.moments[i+1].players[7].y - self.moments[i].players[7].y],\n",
    "                      'DefAct4x':[self.moments[i+1].players[8].x - self.moments[i].players[8].x],\n",
    "                      'DefAct4y':[self.moments[i+1].players[8].y - self.moments[i].players[8].y],\n",
    "                      'DefAct5x':[self.moments[i+1].players[9].x - self.moments[i].players[9].x],\n",
    "                      'DefAct5y':[self.moments[i+1].players[9].y - self.moments[i].players[9].y] }\n",
    "        \n",
    "        return {**statedata, **actiondata}\n",
    "        \n",
    "    def save(self,gamename,event_index):\n",
    "        \n",
    "        stateactiontrajectory = pd.DataFrame(data=self.makestateaction(0))\n",
    "        for momentindex in range(len(self.moments)-1):\n",
    "            stateactiontrajectory = stateactiontrajectory.append(self.makestateaction(momentindex),ignore_index=True)\n",
    "        picklename = './'+ gamename +'/' + gamename + \"_\" + str(event_index) + \".pkl\"\n",
    "        stateactiontrajectory.to_pickle(picklename) "
   ]
  },
  {
   "cell_type": "code",
   "execution_count": 191,
   "metadata": {},
   "outputs": [],
   "source": [
    "class Moment:\n",
    "    def __init__(self, moment):\n",
    "        self.quarter = moment[0]  \n",
    "        self.game_clock = moment[2]  \n",
    "        self.shot_clock = moment[3]  \n",
    "        ball = moment[5][0] \n",
    "        self.ball = Ball(ball)\n",
    "        players = moment[5][1:]  \n",
    "        self.players = [Player(player) for player in players]"
   ]
  },
  {
   "cell_type": "code",
   "execution_count": 192,
   "metadata": {},
   "outputs": [],
   "source": [
    "class Player:\n",
    "    def __init__(self, player):\n",
    "        self.id = player[1]\n",
    "        self.x = player[2]\n",
    "        self.y = player[3]"
   ]
  },
  {
   "cell_type": "code",
   "execution_count": 193,
   "metadata": {},
   "outputs": [],
   "source": [
    "class Ball:\n",
    "    def __init__(self, ball):\n",
    "        self.x = ball[2]\n",
    "        self.y = ball[3]\n",
    "        self.z = ball[4]"
   ]
  },
  {
   "cell_type": "code",
   "execution_count": 194,
   "metadata": {},
   "outputs": [],
   "source": [
    "game = Game('0021500492.json')\n",
    "game.read_json()"
   ]
  },
  {
   "cell_type": "code",
   "execution_count": 195,
   "metadata": {},
   "outputs": [
    {
     "ename": "IndexError",
     "evalue": "list index out of range",
     "output_type": "error",
     "traceback": [
      "\u001b[1;31m---------------------------------------------------------------------------\u001b[0m",
      "\u001b[1;31mIndexError\u001b[0m                                Traceback (most recent call last)",
      "\u001b[1;32m<ipython-input-195-5b394a0b6aba>\u001b[0m in \u001b[0;36m<module>\u001b[1;34m\u001b[0m\n\u001b[1;32m----> 1\u001b[1;33m \u001b[0mgame\u001b[0m\u001b[1;33m.\u001b[0m\u001b[0mstart\u001b[0m\u001b[1;33m(\u001b[0m\u001b[1;33m)\u001b[0m\u001b[1;33m\u001b[0m\u001b[1;33m\u001b[0m\u001b[0m\n\u001b[0m",
      "\u001b[1;32m<ipython-input-189-15b8c1297ae2>\u001b[0m in \u001b[0;36mstart\u001b[1;34m(self)\u001b[0m\n\u001b[0;32m     17\u001b[0m             \u001b[0mevent\u001b[0m \u001b[1;33m=\u001b[0m \u001b[0mself\u001b[0m\u001b[1;33m.\u001b[0m\u001b[0mdata_frame\u001b[0m\u001b[1;33m[\u001b[0m\u001b[1;34m'events'\u001b[0m\u001b[1;33m]\u001b[0m\u001b[1;33m[\u001b[0m\u001b[0mevent_index\u001b[0m\u001b[1;33m]\u001b[0m\u001b[1;33m\u001b[0m\u001b[1;33m\u001b[0m\u001b[0m\n\u001b[0;32m     18\u001b[0m             \u001b[0mself\u001b[0m\u001b[1;33m.\u001b[0m\u001b[0mevent\u001b[0m \u001b[1;33m=\u001b[0m \u001b[0mEvent\u001b[0m\u001b[1;33m(\u001b[0m\u001b[0mevent\u001b[0m\u001b[1;33m)\u001b[0m\u001b[1;33m\u001b[0m\u001b[1;33m\u001b[0m\u001b[0m\n\u001b[1;32m---> 19\u001b[1;33m             \u001b[0mself\u001b[0m\u001b[1;33m.\u001b[0m\u001b[0mevent\u001b[0m\u001b[1;33m.\u001b[0m\u001b[0msave\u001b[0m\u001b[1;33m(\u001b[0m\u001b[0mself\u001b[0m\u001b[1;33m.\u001b[0m\u001b[0mgamename\u001b[0m\u001b[1;33m,\u001b[0m\u001b[0mevent_index\u001b[0m\u001b[1;33m)\u001b[0m\u001b[1;33m\u001b[0m\u001b[1;33m\u001b[0m\u001b[0m\n\u001b[0m",
      "\u001b[1;32m<ipython-input-190-57cb84a77b6d>\u001b[0m in \u001b[0;36msave\u001b[1;34m(self, gamename, event_index)\u001b[0m\n\u001b[0;32m     34\u001b[0m         \u001b[0mstateactiontrajectory\u001b[0m \u001b[1;33m=\u001b[0m \u001b[0mpd\u001b[0m\u001b[1;33m.\u001b[0m\u001b[0mDataFrame\u001b[0m\u001b[1;33m(\u001b[0m\u001b[0mdata\u001b[0m\u001b[1;33m=\u001b[0m\u001b[0mself\u001b[0m\u001b[1;33m.\u001b[0m\u001b[0mmakestateaction\u001b[0m\u001b[1;33m(\u001b[0m\u001b[1;36m0\u001b[0m\u001b[1;33m)\u001b[0m\u001b[1;33m)\u001b[0m\u001b[1;33m\u001b[0m\u001b[1;33m\u001b[0m\u001b[0m\n\u001b[0;32m     35\u001b[0m         \u001b[1;32mfor\u001b[0m \u001b[0mmomentindex\u001b[0m \u001b[1;32min\u001b[0m \u001b[0mrange\u001b[0m\u001b[1;33m(\u001b[0m\u001b[0mlen\u001b[0m\u001b[1;33m(\u001b[0m\u001b[0mself\u001b[0m\u001b[1;33m.\u001b[0m\u001b[0mmoments\u001b[0m\u001b[1;33m)\u001b[0m\u001b[1;33m-\u001b[0m\u001b[1;36m1\u001b[0m\u001b[1;33m)\u001b[0m\u001b[1;33m:\u001b[0m\u001b[1;33m\u001b[0m\u001b[1;33m\u001b[0m\u001b[0m\n\u001b[1;32m---> 36\u001b[1;33m             \u001b[0mstateactiontrajectory\u001b[0m \u001b[1;33m=\u001b[0m \u001b[0mstateactiontrajectory\u001b[0m\u001b[1;33m.\u001b[0m\u001b[0mappend\u001b[0m\u001b[1;33m(\u001b[0m\u001b[0mself\u001b[0m\u001b[1;33m.\u001b[0m\u001b[0mmakestateaction\u001b[0m\u001b[1;33m(\u001b[0m\u001b[0mmomentindex\u001b[0m\u001b[1;33m)\u001b[0m\u001b[1;33m,\u001b[0m\u001b[0mignore_index\u001b[0m\u001b[1;33m=\u001b[0m\u001b[1;32mTrue\u001b[0m\u001b[1;33m)\u001b[0m\u001b[1;33m\u001b[0m\u001b[1;33m\u001b[0m\u001b[0m\n\u001b[0m\u001b[0;32m     37\u001b[0m         \u001b[0mpicklename\u001b[0m \u001b[1;33m=\u001b[0m \u001b[1;34m'./'\u001b[0m\u001b[1;33m+\u001b[0m \u001b[0mgamename\u001b[0m \u001b[1;33m+\u001b[0m\u001b[1;34m'/'\u001b[0m \u001b[1;33m+\u001b[0m \u001b[0mgamename\u001b[0m \u001b[1;33m+\u001b[0m \u001b[1;34m\"_\"\u001b[0m \u001b[1;33m+\u001b[0m \u001b[0mstr\u001b[0m\u001b[1;33m(\u001b[0m\u001b[0mevent_index\u001b[0m\u001b[1;33m)\u001b[0m \u001b[1;33m+\u001b[0m \u001b[1;34m\".pkl\"\u001b[0m\u001b[1;33m\u001b[0m\u001b[1;33m\u001b[0m\u001b[0m\n\u001b[0;32m     38\u001b[0m         \u001b[0mstateactiontrajectory\u001b[0m\u001b[1;33m.\u001b[0m\u001b[0mto_pickle\u001b[0m\u001b[1;33m(\u001b[0m\u001b[0mpicklename\u001b[0m\u001b[1;33m)\u001b[0m\u001b[1;33m\u001b[0m\u001b[1;33m\u001b[0m\u001b[0m\n",
      "\u001b[1;32m<ipython-input-190-57cb84a77b6d>\u001b[0m in \u001b[0;36mmakestateaction\u001b[1;34m(self, i)\u001b[0m\n\u001b[0;32m     25\u001b[0m                       \u001b[1;34m'DefAct4x'\u001b[0m\u001b[1;33m:\u001b[0m\u001b[1;33m[\u001b[0m\u001b[0mself\u001b[0m\u001b[1;33m.\u001b[0m\u001b[0mmoments\u001b[0m\u001b[1;33m[\u001b[0m\u001b[0mi\u001b[0m\u001b[1;33m+\u001b[0m\u001b[1;36m1\u001b[0m\u001b[1;33m]\u001b[0m\u001b[1;33m.\u001b[0m\u001b[0mplayers\u001b[0m\u001b[1;33m[\u001b[0m\u001b[1;36m8\u001b[0m\u001b[1;33m]\u001b[0m\u001b[1;33m.\u001b[0m\u001b[0mx\u001b[0m \u001b[1;33m-\u001b[0m \u001b[0mself\u001b[0m\u001b[1;33m.\u001b[0m\u001b[0mmoments\u001b[0m\u001b[1;33m[\u001b[0m\u001b[0mi\u001b[0m\u001b[1;33m]\u001b[0m\u001b[1;33m.\u001b[0m\u001b[0mplayers\u001b[0m\u001b[1;33m[\u001b[0m\u001b[1;36m8\u001b[0m\u001b[1;33m]\u001b[0m\u001b[1;33m.\u001b[0m\u001b[0mx\u001b[0m\u001b[1;33m]\u001b[0m\u001b[1;33m,\u001b[0m\u001b[1;33m\u001b[0m\u001b[1;33m\u001b[0m\u001b[0m\n\u001b[0;32m     26\u001b[0m                       \u001b[1;34m'DefAct4y'\u001b[0m\u001b[1;33m:\u001b[0m\u001b[1;33m[\u001b[0m\u001b[0mself\u001b[0m\u001b[1;33m.\u001b[0m\u001b[0mmoments\u001b[0m\u001b[1;33m[\u001b[0m\u001b[0mi\u001b[0m\u001b[1;33m+\u001b[0m\u001b[1;36m1\u001b[0m\u001b[1;33m]\u001b[0m\u001b[1;33m.\u001b[0m\u001b[0mplayers\u001b[0m\u001b[1;33m[\u001b[0m\u001b[1;36m8\u001b[0m\u001b[1;33m]\u001b[0m\u001b[1;33m.\u001b[0m\u001b[0my\u001b[0m \u001b[1;33m-\u001b[0m \u001b[0mself\u001b[0m\u001b[1;33m.\u001b[0m\u001b[0mmoments\u001b[0m\u001b[1;33m[\u001b[0m\u001b[0mi\u001b[0m\u001b[1;33m]\u001b[0m\u001b[1;33m.\u001b[0m\u001b[0mplayers\u001b[0m\u001b[1;33m[\u001b[0m\u001b[1;36m8\u001b[0m\u001b[1;33m]\u001b[0m\u001b[1;33m.\u001b[0m\u001b[0my\u001b[0m\u001b[1;33m]\u001b[0m\u001b[1;33m,\u001b[0m\u001b[1;33m\u001b[0m\u001b[1;33m\u001b[0m\u001b[0m\n\u001b[1;32m---> 27\u001b[1;33m                       \u001b[1;34m'DefAct5x'\u001b[0m\u001b[1;33m:\u001b[0m\u001b[1;33m[\u001b[0m\u001b[0mself\u001b[0m\u001b[1;33m.\u001b[0m\u001b[0mmoments\u001b[0m\u001b[1;33m[\u001b[0m\u001b[0mi\u001b[0m\u001b[1;33m+\u001b[0m\u001b[1;36m1\u001b[0m\u001b[1;33m]\u001b[0m\u001b[1;33m.\u001b[0m\u001b[0mplayers\u001b[0m\u001b[1;33m[\u001b[0m\u001b[1;36m9\u001b[0m\u001b[1;33m]\u001b[0m\u001b[1;33m.\u001b[0m\u001b[0mx\u001b[0m \u001b[1;33m-\u001b[0m \u001b[0mself\u001b[0m\u001b[1;33m.\u001b[0m\u001b[0mmoments\u001b[0m\u001b[1;33m[\u001b[0m\u001b[0mi\u001b[0m\u001b[1;33m]\u001b[0m\u001b[1;33m.\u001b[0m\u001b[0mplayers\u001b[0m\u001b[1;33m[\u001b[0m\u001b[1;36m9\u001b[0m\u001b[1;33m]\u001b[0m\u001b[1;33m.\u001b[0m\u001b[0mx\u001b[0m\u001b[1;33m]\u001b[0m\u001b[1;33m,\u001b[0m\u001b[1;33m\u001b[0m\u001b[1;33m\u001b[0m\u001b[0m\n\u001b[0m\u001b[0;32m     28\u001b[0m                       'DefAct5y':[self.moments[i+1].players[9].y - self.moments[i].players[9].y] }\n\u001b[0;32m     29\u001b[0m \u001b[1;33m\u001b[0m\u001b[0m\n",
      "\u001b[1;31mIndexError\u001b[0m: list index out of range"
     ]
    }
   ],
   "source": [
    "game.start()"
   ]
  },
  {
   "cell_type": "code",
   "execution_count": null,
   "metadata": {},
   "outputs": [],
   "source": []
  }
 ],
 "metadata": {
  "kernelspec": {
   "display_name": "Python 3",
   "language": "python",
   "name": "python3"
  },
  "language_info": {
   "codemirror_mode": {
    "name": "ipython",
    "version": 3
   },
   "file_extension": ".py",
   "mimetype": "text/x-python",
   "name": "python",
   "nbconvert_exporter": "python",
   "pygments_lexer": "ipython3",
   "version": "3.7.4"
  }
 },
 "nbformat": 4,
 "nbformat_minor": 2
}
