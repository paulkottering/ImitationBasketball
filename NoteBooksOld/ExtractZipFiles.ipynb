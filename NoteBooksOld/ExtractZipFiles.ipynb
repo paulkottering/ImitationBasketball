{
 "cells": [
  {
   "cell_type": "code",
   "execution_count": null,
   "id": "63811eea",
   "metadata": {},
   "outputs": [],
   "source": [
    "import py7zr\n",
    "import os\n",
    "\n",
    "path = \"../nba-movement-data/data/\"\n",
    "dir_list = os.listdir(path)[:-3]\n",
    "\n",
    "for file in dir_list:\n",
    "    \n",
    "    path = \"../nba-movement-data/data/\" + file\n",
    "    \n",
    "    with py7zr.SevenZipFile(path, mode='r') as z:\n",
    "        z.extractall()"
   ]
  }
 ],
 "metadata": {
  "kernelspec": {
   "display_name": "Python 3 (ipykernel)",
   "language": "python",
   "name": "python3"
  },
  "language_info": {
   "codemirror_mode": {
    "name": "ipython",
    "version": 3
   },
   "file_extension": ".py",
   "mimetype": "text/x-python",
   "name": "python",
   "nbconvert_exporter": "python",
   "pygments_lexer": "ipython3",
   "version": "3.9.15"
  }
 },
 "nbformat": 4,
 "nbformat_minor": 5
}
