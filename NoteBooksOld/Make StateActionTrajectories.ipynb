{
 "cells": [
  {
   "cell_type": "code",
   "execution_count": 151,
   "metadata": {},
   "outputs": [],
   "source": [
    "import pandas as pd\n",
    "import numpy as np\n",
    "from zipfile import ZipFile\n",
    "import py7zr\n"
   ]
  },
  {
   "cell_type": "code",
   "execution_count": 128,
   "metadata": {},
   "outputs": [],
   "source": [
    "import matplotlib.animation as animation\n",
    "import matplotlib.pyplot as plt\n",
    "import os\n",
    "import torch \n",
    "from typing import Any, Dict, List\n",
    "import pickle"
   ]
  },
  {
   "cell_type": "code",
   "execution_count": null,
   "metadata": {},
   "outputs": [],
   "source": []
  },
  {
   "cell_type": "markdown",
   "metadata": {},
   "source": [
    "The aim of this notebook is to run a game json file and to produce a cleaned file with all the events. Each event should have trajectories of state-action pairs."
   ]
  },
  {
   "cell_type": "markdown",
   "metadata": {},
   "source": [
    "Possible state/action representations:\n",
    "\n",
    "* 22 dimensional vector for the current state (positions of all 10 players and the ball) - 10 dimension vector for the action (change in x and y for each defensive player)\n",
    "* 22 dimensional vector for the current state (change in x,y of all 10 players and the ball) - 10 dimension vector for the action (change in x and y for each defensive player)\n",
    "* 22 dimensional vector for the current state (change in x,y of 5 offensive players and ball, current position of 5 defensive players) - 10 dimension vector for the action (change in x and y for each defensive player)\n",
    "* 22 dimensional vector for the players (one of above) and 2 dimensional vector of game and shot clock for state - 10 dimension vector for the action (as above)"
   ]
  },
  {
   "cell_type": "code",
   "execution_count": 238,
   "metadata": {},
   "outputs": [],
   "source": [
    "\n",
    "def start(path_to_json):\n",
    "    \n",
    "    data_frame = pd.read_json(path_to_json)\n",
    "    last_default_index = len(data_frame) - 1\n",
    "\n",
    "    for event_index in range(last_default_index):\n",
    "        \n",
    "        eventnum = data_frame['events'][event_index]\n",
    "        \n",
    "        moments = []\n",
    "        for moment in eventnum['moments']:\n",
    "            if moment[5][0][0] == -1:\n",
    "                moments.append(Moment(moment))\n",
    "            else:\n",
    "                break\n",
    "\n",
    "        if len(moments) >= 10:\n",
    "            save(moments,path_to_json[10:-5],event_index)\n",
    "            \n",
    "        "
   ]
  },
  {
   "cell_type": "code",
   "execution_count": 239,
   "metadata": {},
   "outputs": [],
   "source": [
    "class Moment:\n",
    "    def __init__(self, moment):\n",
    "        self.quarter = moment[0]  \n",
    "        self.game_clock = moment[2]  \n",
    "        self.shot_clock = moment[3]  \n",
    "        ball = moment[5][0] \n",
    "        self.ball = Ball(ball)\n",
    "        players = moment[5][1:]  \n",
    "        self.players = [Player(player) for player in players]"
   ]
  },
  {
   "cell_type": "code",
   "execution_count": 240,
   "metadata": {},
   "outputs": [],
   "source": [
    "class Player:\n",
    "    def __init__(self, player):\n",
    "        self.id = player[1]\n",
    "        self.x = player[2]\n",
    "        self.y = player[3]"
   ]
  },
  {
   "cell_type": "code",
   "execution_count": 241,
   "metadata": {},
   "outputs": [],
   "source": [
    "class Ball:\n",
    "    def __init__(self, ball):\n",
    "        self.x = ball[2]\n",
    "        self.y = ball[3]\n",
    "        self.z = ball[4]"
   ]
  },
  {
   "cell_type": "code",
   "execution_count": 242,
   "metadata": {},
   "outputs": [],
   "source": [
    "\n",
    "def makestateaction(moments,i,attacking_team_first):\n",
    "\n",
    "    if attacking_team_first == True:\n",
    "        O = 0\n",
    "        D = 5\n",
    "    else:\n",
    "        O = 5\n",
    "        D = 0\n",
    "\n",
    "    state = []\n",
    "    for l in range(5):\n",
    "        state.append(moments[i].players[O+l].x)\n",
    "        state.append(moments[i].players[O+l].y)\n",
    "\n",
    "    for l in range(5):\n",
    "        state.append(moments[i].players[D+l].x)\n",
    "        state.append(moments[i].players[D+l].y)\n",
    "\n",
    "    state.append(moments[i].ball.x)\n",
    "    state.append(moments[i].ball.y)\n",
    "\n",
    "    action = []\n",
    "    for k in range(5):\n",
    "        action.append(moments[i+1].players[D+k].x - moments[i].players[D+k].x)\n",
    "        action.append(moments[i+1].players[D+k].x - moments[i].players[D+k].x)\n",
    "\n",
    "    return torch.as_tensor(state),torch.as_tensor(action),torch.as_tensor(0),torch.as_tensor(False)\n",
    "\n",
    "def save(moments,gamename,event_index):\n",
    "\n",
    "    demos = Experiences()\n",
    "    teams_sum = 0 \n",
    "\n",
    "    for momentindex in range(len(moments)-1):\n",
    "        player_to_ball_distance = [np.sqrt((moments[momentindex].players[j].x - moments[momentindex].ball.x)**2 \n",
    "                                       + (moments[momentindex].players[j].y - moments[momentindex].ball.y)**2) for j in range(10)]\n",
    "        if np.argmin(player_to_ball_distance) > 4:\n",
    "            teams_sum += 1\n",
    "\n",
    "    if teams_sum/(len(moments)-1) < 0.1:\n",
    "        attacking_team_first = True\n",
    "        \n",
    "        for momentindex in range(len(moments)-1):\n",
    "            state,action,reward,done= makestateaction(moments,momentindex,attacking_team_first)\n",
    "            demos.add(state,action,reward,done)\n",
    "            \n",
    "        with open('PickleDemos/' + gamename + \"_\" + str(event_index) + \".pkl\", 'wb') as f:\n",
    "            pickle.dump(demos, f, pickle.HIGHEST_PROTOCOL)\n",
    "\n",
    "    elif teams_sum/(len(moments)-1) > 0.9:\n",
    "        attacking_team_first = False\n",
    "        \n",
    "        for momentindex in range(len(moments)-1):\n",
    "            state,action,reward,done= makestateaction(moments,momentindex,attacking_team_first)\n",
    "            demos.add(state,action,reward,done)\n",
    "            \n",
    "        with open('PickleDemos/' + gamename + \"_\" + str(event_index) + \".pkl\", 'wb') as f:\n",
    "            pickle.dump(demos, f, pickle.HIGHEST_PROTOCOL)  \n",
    "\n",
    "        print(event_index)\n",
    "        print(teams_sum/(len(moments)-1))\n",
    "        print(len(moments)-1)\n",
    "\n",
    "            "
   ]
  },
  {
   "cell_type": "code",
   "execution_count": 243,
   "metadata": {},
   "outputs": [],
   "source": [
    "class Experiences:\n",
    "    def __init__(self) -> None:\n",
    "        \"\"\"\n",
    "        Initialize experiences object, which stores a stack of agent-environment \n",
    "        transitions.\n",
    "        \"\"\"\n",
    "        self.states = []\n",
    "        self.actions = []\n",
    "        self.rewards = []\n",
    "        self.dones = []\n",
    "\n",
    "    def add(\n",
    "        self,\n",
    "        state: torch.Tensor,\n",
    "        action: torch.Tensor,\n",
    "        reward: torch.Tensor,\n",
    "        done: torch.Tensor,\n",
    "    ) -> None:\n",
    "        \"\"\"\n",
    "        Add a transition to the stack of transitions.\n",
    "        Parameters\n",
    "        ----------\n",
    "        state: torch.Tensor\n",
    "        action: torch.Tensor\n",
    "        reward: torch.Tensor\n",
    "        done: torch.Tensor\n",
    "        \"\"\"\n",
    "        self.states.append(state)\n",
    "        self.actions.append(action)\n",
    "        self.rewards.append(reward)\n",
    "        self.dones.append(done)"
   ]
  },
  {
   "cell_type": "code",
   "execution_count": 247,
   "metadata": {},
   "outputs": [
    {
     "name": "stdout",
     "output_type": "stream",
     "text": [
      "0021500001.json\n",
      "4\n",
      "1.0\n",
      "63\n",
      "12\n",
      "0.9721706864564007\n",
      "539\n",
      "28\n",
      "1.0\n",
      "10\n",
      "31\n",
      "0.8166666666666667\n",
      "360\n"
     ]
    },
    {
     "ename": "IndexError",
     "evalue": "list index out of range",
     "output_type": "error",
     "traceback": [
      "\u001b[1;31m---------------------------------------------------------------------------\u001b[0m",
      "\u001b[1;31mIndexError\u001b[0m                                Traceback (most recent call last)",
      "\u001b[1;32m~\\AppData\\Local\\Temp\\ipykernel_43888\\2046481227.py\u001b[0m in \u001b[0;36m<module>\u001b[1;34m\u001b[0m\n\u001b[0;32m      4\u001b[0m     \u001b[0mprint\u001b[0m\u001b[1;33m(\u001b[0m\u001b[0mjson\u001b[0m\u001b[1;33m)\u001b[0m\u001b[1;33m\u001b[0m\u001b[1;33m\u001b[0m\u001b[0m\n\u001b[0;32m      5\u001b[0m     \u001b[0mjson_path\u001b[0m \u001b[1;33m=\u001b[0m \u001b[1;34m\"JsonFiles/\"\u001b[0m \u001b[1;33m+\u001b[0m \u001b[0mjson\u001b[0m\u001b[1;33m\u001b[0m\u001b[1;33m\u001b[0m\u001b[0m\n\u001b[1;32m----> 6\u001b[1;33m     \u001b[0mstart\u001b[0m\u001b[1;33m(\u001b[0m\u001b[0mjson_path\u001b[0m\u001b[1;33m)\u001b[0m\u001b[1;33m\u001b[0m\u001b[1;33m\u001b[0m\u001b[0m\n\u001b[0m",
      "\u001b[1;32m~\\AppData\\Local\\Temp\\ipykernel_43888\\249979092.py\u001b[0m in \u001b[0;36mstart\u001b[1;34m(path_to_json)\u001b[0m\n\u001b[0;32m     16\u001b[0m \u001b[1;33m\u001b[0m\u001b[0m\n\u001b[0;32m     17\u001b[0m         \u001b[1;32mif\u001b[0m \u001b[0mlen\u001b[0m\u001b[1;33m(\u001b[0m\u001b[0mmoments\u001b[0m\u001b[1;33m)\u001b[0m \u001b[1;33m>=\u001b[0m \u001b[1;36m10\u001b[0m\u001b[1;33m:\u001b[0m\u001b[1;33m\u001b[0m\u001b[1;33m\u001b[0m\u001b[0m\n\u001b[1;32m---> 18\u001b[1;33m             \u001b[0msave\u001b[0m\u001b[1;33m(\u001b[0m\u001b[0mmoments\u001b[0m\u001b[1;33m,\u001b[0m\u001b[0mpath_to_json\u001b[0m\u001b[1;33m[\u001b[0m\u001b[1;36m10\u001b[0m\u001b[1;33m:\u001b[0m\u001b[1;33m-\u001b[0m\u001b[1;36m5\u001b[0m\u001b[1;33m]\u001b[0m\u001b[1;33m,\u001b[0m\u001b[0mevent_index\u001b[0m\u001b[1;33m)\u001b[0m\u001b[1;33m\u001b[0m\u001b[1;33m\u001b[0m\u001b[0m\n\u001b[0m\u001b[0;32m     19\u001b[0m \u001b[1;33m\u001b[0m\u001b[0m\n\u001b[0;32m     20\u001b[0m \u001b[1;33m\u001b[0m\u001b[0m\n",
      "\u001b[1;32m~\\AppData\\Local\\Temp\\ipykernel_43888\\3221710703.py\u001b[0m in \u001b[0;36msave\u001b[1;34m(moments, gamename, event_index)\u001b[0m\n\u001b[0;32m     33\u001b[0m \u001b[1;33m\u001b[0m\u001b[0m\n\u001b[0;32m     34\u001b[0m     \u001b[1;32mfor\u001b[0m \u001b[0mmomentindex\u001b[0m \u001b[1;32min\u001b[0m \u001b[0mrange\u001b[0m\u001b[1;33m(\u001b[0m\u001b[0mlen\u001b[0m\u001b[1;33m(\u001b[0m\u001b[0mmoments\u001b[0m\u001b[1;33m)\u001b[0m\u001b[1;33m-\u001b[0m\u001b[1;36m1\u001b[0m\u001b[1;33m)\u001b[0m\u001b[1;33m:\u001b[0m\u001b[1;33m\u001b[0m\u001b[1;33m\u001b[0m\u001b[0m\n\u001b[1;32m---> 35\u001b[1;33m         player_to_ball_distance = [np.sqrt((moments[momentindex].players[j].x - moments[momentindex].ball.x)**2 \n\u001b[0m\u001b[0;32m     36\u001b[0m                                        + (moments[momentindex].players[j].y - moments[momentindex].ball.y)**2) for j in range(10)]\n\u001b[0;32m     37\u001b[0m         \u001b[1;32mif\u001b[0m \u001b[0mnp\u001b[0m\u001b[1;33m.\u001b[0m\u001b[0margmin\u001b[0m\u001b[1;33m(\u001b[0m\u001b[0mplayer_to_ball_distance\u001b[0m\u001b[1;33m)\u001b[0m \u001b[1;33m>\u001b[0m \u001b[1;36m4\u001b[0m\u001b[1;33m:\u001b[0m\u001b[1;33m\u001b[0m\u001b[1;33m\u001b[0m\u001b[0m\n",
      "\u001b[1;32m~\\AppData\\Local\\Temp\\ipykernel_43888\\3221710703.py\u001b[0m in \u001b[0;36m<listcomp>\u001b[1;34m(.0)\u001b[0m\n\u001b[0;32m     33\u001b[0m \u001b[1;33m\u001b[0m\u001b[0m\n\u001b[0;32m     34\u001b[0m     \u001b[1;32mfor\u001b[0m \u001b[0mmomentindex\u001b[0m \u001b[1;32min\u001b[0m \u001b[0mrange\u001b[0m\u001b[1;33m(\u001b[0m\u001b[0mlen\u001b[0m\u001b[1;33m(\u001b[0m\u001b[0mmoments\u001b[0m\u001b[1;33m)\u001b[0m\u001b[1;33m-\u001b[0m\u001b[1;36m1\u001b[0m\u001b[1;33m)\u001b[0m\u001b[1;33m:\u001b[0m\u001b[1;33m\u001b[0m\u001b[1;33m\u001b[0m\u001b[0m\n\u001b[1;32m---> 35\u001b[1;33m         player_to_ball_distance = [np.sqrt((moments[momentindex].players[j].x - moments[momentindex].ball.x)**2 \n\u001b[0m\u001b[0;32m     36\u001b[0m                                        + (moments[momentindex].players[j].y - moments[momentindex].ball.y)**2) for j in range(10)]\n\u001b[0;32m     37\u001b[0m         \u001b[1;32mif\u001b[0m \u001b[0mnp\u001b[0m\u001b[1;33m.\u001b[0m\u001b[0margmin\u001b[0m\u001b[1;33m(\u001b[0m\u001b[0mplayer_to_ball_distance\u001b[0m\u001b[1;33m)\u001b[0m \u001b[1;33m>\u001b[0m \u001b[1;36m4\u001b[0m\u001b[1;33m:\u001b[0m\u001b[1;33m\u001b[0m\u001b[1;33m\u001b[0m\u001b[0m\n",
      "\u001b[1;31mIndexError\u001b[0m: list index out of range"
     ]
    }
   ],
   "source": [
    "json_list = os.listdir(\"JsonFiles/\")\n",
    "\n",
    "for json in json_list:\n",
    "    print(json)\n",
    "    json_path = \"JsonFiles/\" + json\n",
    "    start(json_path)"
   ]
  },
  {
   "cell_type": "code",
   "execution_count": null,
   "metadata": {},
   "outputs": [],
   "source": []
  }
 ],
 "metadata": {
  "kernelspec": {
   "display_name": "Python 3 (ipykernel)",
   "language": "python",
   "name": "python3"
  },
  "language_info": {
   "codemirror_mode": {
    "name": "ipython",
    "version": 3
   },
   "file_extension": ".py",
   "mimetype": "text/x-python",
   "name": "python",
   "nbconvert_exporter": "python",
   "pygments_lexer": "ipython3",
   "version": "3.9.15"
  }
 },
 "nbformat": 4,
 "nbformat_minor": 2
}
